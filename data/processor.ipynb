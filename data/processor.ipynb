{
 "cells": [
  {
   "cell_type": "code",
   "execution_count": null,
   "metadata": {
    "collapsed": true
   },
   "outputs": [],
   "source": [
    "# 生成TACRED小数据集\n",
    "import json\n",
    "tacred_dir = '../dataset/tacred/'\n",
    "datasets = ['test', 'dev', 'train']\n",
    "\n",
    "standford_berkeley = '_std_ber.json'\n",
    "standford_berkeley_small = '_std_ber_small.json'\n",
    "\n",
    "for ds in datasets:\n",
    "    print('merge dataset ' + ds)\n",
    "    datafile = tacred_dir + ds\n",
    "    with open(datafile + standford_berkeley, 'r') as f:\n",
    "        datas = list(json.load(f))\n",
    "\n",
    "    new_datas = []\n",
    "    for i in range(0, len(datas)//5):\n",
    "        new_data = {}\n",
    "        new_data['relation'] = datas[i]['relation']\n",
    "        new_data['token'] = datas[i]['token']\n",
    "        new_data['subj_start'] = datas[i]['subj_start']\n",
    "        new_data['subj_end'] = datas[i]['subj_end']\n",
    "        new_data['obj_start'] = datas[i]['obj_start']\n",
    "        new_data['obj_end'] = datas[i]['obj_end']\n",
    "        new_data['subj_type'] = datas[i]['subj_type']\n",
    "        new_data['obj_type'] = datas[i]['obj_type']\n",
    "        new_data['stanford_pos'] = datas[i]['stanford_pos']\n",
    "        new_data['stanford_ner'] = datas[i]['stanford_ner']\n",
    "        new_data['stanford_head'] = datas[i]['stanford_head']\n",
    "        new_data['stanford_deprel'] = datas[i]['stanford_deprel']\n",
    "        new_data['berkeley_head'] = datas[i]['berkeley_head']\n",
    "        new_datas.append(new_data)\n",
    "    with open(datafile + standford_berkeley_small , 'w') as f:\n",
    "        json.dump(new_datas, f)\n",
    "    with open(datafile + standford_berkeley_small+'sample' , 'w') as f:\n",
    "        json.dump(new_datas[:2], f)\n"
   ]
  },
  {
   "cell_type": "code",
   "execution_count": null,
   "outputs": [],
   "source": [
    "# 处理得到模型使用的数据\n",
    "\n"
   ],
   "metadata": {
    "collapsed": false,
    "pycharm": {
     "name": "#%%\n"
    }
   }
  }
 ],
 "metadata": {
  "kernelspec": {
   "display_name": "Python 3",
   "language": "python",
   "name": "python3"
  },
  "language_info": {
   "codemirror_mode": {
    "name": "ipython",
    "version": 2
   },
   "file_extension": ".py",
   "mimetype": "text/x-python",
   "name": "python",
   "nbconvert_exporter": "python",
   "pygments_lexer": "ipython2",
   "version": "2.7.6"
  },
  "pycharm": {
   "stem_cell": {
    "cell_type": "raw",
    "source": [],
    "metadata": {
     "collapsed": false
    }
   }
  }
 },
 "nbformat": 4,
 "nbformat_minor": 0
}